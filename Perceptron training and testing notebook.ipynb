{
  "cells": [
    {
      "cell_type": "markdown",
      "metadata": {
        "id": "3c2k-ucBBoPg"
      },
      "source": [
        "# Assignment One\n",
        "## Perceptron Implementation"
      ]
    },
    {
      "cell_type": "markdown",
      "metadata": {
        "id": "F6WmV4h3aALY"
      },
      "source": [
        "**Importing Libraries**"
      ]
    },
    {
      "cell_type": "code",
      "execution_count": 1,
      "metadata": {
        "id": "w98xAAnaaUWz"
      },
      "outputs": [],
      "source": [
        "import pandas as pd\n",
        "import numpy as np\n",
        "from sklearn.model_selection import train_test_split"
      ]
    },
    {
      "cell_type": "markdown",
      "metadata": {
        "id": "dU6aW6CHzEOT"
      },
      "source": [
        "### The perceptron model and it's prediction function\n",
        "parameters:  \n",
        "* X - features  \n",
        "* lable - target  \n",
        "* iteration - amount of itteration to predict weights"
      ]
    },
    {
      "cell_type": "code",
      "execution_count": 2,
      "metadata": {
        "id": "22qsKIDXajn2"
      },
      "outputs": [],
      "source": [
        "def train_model(X,label,iteration=5):\n",
        "  weight = [0] * len(X[0])\n",
        "  for _ in range(iteration):\n",
        "    for x,y in zip(X,label):\n",
        "      delta = y-predict(x,weight)\n",
        "      weight += np.dot(delta,x)\n",
        "\n",
        "  return weight\n",
        "\n",
        "def predict(input, weight):\n",
        "  return 1 if np.dot(input, weight) >=0 else -1"
      ]
    },
    {
      "cell_type": "markdown",
      "metadata": {
        "id": "2a24rhmZZSB4"
      },
      "source": [
        "## **Tests**"
      ]
    },
    {
      "cell_type": "markdown",
      "metadata": {
        "id": "mEaGsmij05sX"
      },
      "source": [
        "### Test 1"
      ]
    },
    {
      "cell_type": "markdown",
      "metadata": {
        "id": "n9OWBUOI0-UF"
      },
      "source": [
        "Transforming the data into binary sections and generating test and train data."
      ]
    },
    {
      "cell_type": "code",
      "execution_count": 3,
      "metadata": {
        "id": "tukEmRFZyzBe"
      },
      "outputs": [],
      "source": [
        "df = pd.read_csv(\"iris.data\") #used online data to avoid upload issues\n",
        "df = df.head(100) #Selecting the first 100 to have only two labels\n",
        "# The following two lines extract the labels from the DF and replace the labels with 1 and -1.\n",
        "classes = df.iloc[0:100, 4].values \n",
        "classes = np.where(classes == 'Iris-setosa', -1, 1)"
      ]
    },
    {
      "cell_type": "code",
      "execution_count": 4,
      "metadata": {
        "id": "a9lQ_cowy8aR"
      },
      "outputs": [],
      "source": [
        "# dropping the target class\n",
        "df = df.drop([\"Iris-setosa\"], axis=1)\n",
        "X_test, X_train, y_test, y_train = train_test_split(df, classes, test_size=0.3, random_state=10)"
      ]
    },
    {
      "cell_type": "code",
      "execution_count": 5,
      "metadata": {
        "colab": {
          "base_uri": "https://localhost:8080/"
        },
        "id": "gQFnCPYbbNhY",
        "outputId": "48f3113e-6460-4578-f59f-d1594cb6fab7"
      },
      "outputs": [
        {
          "name": "stdout",
          "output_type": "stream",
          "text": [
            "Weights: [ -3.6 -12.4  17.2   7.4]\n",
            "[ True  True  True  True  True  True  True  True  True  True  True  True\n",
            "  True  True  True  True  True  True  True  True  True  True  True  True\n",
            "  True  True  True  True  True  True  True  True  True  True  True  True\n",
            "  True  True  True  True  True  True  True  True  True  True  True  True\n",
            "  True  True  True  True  True  True  True  True  True  True  True  True\n",
            "  True  True  True  True  True  True  True  True  True  True]\n"
          ]
        }
      ],
      "source": [
        "# Training data and getting weights\n",
        "weight = train_model(X_train.to_numpy(), y_train)\n",
        "print(\"Weights:\", weight)\n",
        "results = []\n",
        "# print(X_test.to_numpy())\n",
        "for i in X_test.to_numpy():\n",
        "  results.append(predict(i, weight))\n",
        "\n",
        "print(results == y_test)"
      ]
    },
    {
      "cell_type": "markdown",
      "metadata": {
        "id": "HvKvU1XH1umT"
      },
      "source": [
        "The returned results are the comparison between the prediction and the lables where **True** means a correct classification"
      ]
    },
    {
      "cell_type": "markdown",
      "metadata": {
        "id": "1-YOSY4XUrfY"
      },
      "source": [
        "### Test 2\n",
        "\n",
        "Testing the perceptron on a different dataset."
      ]
    },
    {
      "cell_type": "code",
      "execution_count": 6,
      "metadata": {
        "id": "ewfSNL1pKGuw"
      },
      "outputs": [],
      "source": [
        "df = pd.read_csv(\"classification.csv\")\n",
        "# The following two lines extract the labels from the DF and replace the labels with 1 and -1.\n",
        "classes = df[\"success\"].values\n",
        "classes = np.where(classes == 1.0, 1,-1)\n",
        "# Extracting the input data\n",
        "input = df[[\"age\",\"interest\"]].values\n"
      ]
    },
    {
      "cell_type": "markdown",
      "metadata": {
        "id": "ZPGMy31I2VJi"
      },
      "source": [
        "The plot below shows overlapping data points that are not linearly separable. "
      ]
    },
    {
      "cell_type": "code",
      "execution_count": 7,
      "metadata": {
        "colab": {
          "base_uri": "https://localhost:8080/",
          "height": 279
        },
        "id": "TpeNewpIS7Ob",
        "outputId": "8d175999-132e-4236-fb5d-0881b22042da"
      },
      "outputs": [
        {
          "data": {
            "text/plain": [
              "[<matplotlib.lines.Line2D at 0x11cd8c6d0>]"
            ]
          },
          "execution_count": 7,
          "metadata": {},
          "output_type": "execute_result"
        },
        {
          "data": {
            "image/png": "[encoded data removed]",
            "text/plain": [
              "<Figure size 432x288 with 1 Axes>"
            ]
          },
          "metadata": {},
          "output_type": "display_data"
        }
      ],
      "source": [
        "%matplotlib inline\n",
        "import matplotlib.pyplot as plt\n",
        "import warnings\n",
        "\n",
        "warnings.filterwarnings(\"ignore\") # suppresses matplotlib plotting warnings in visual studio code\n",
        "\n",
        "plt.style.use('seaborn-whitegrid')\n",
        "no = df.loc[df['success'] == 0.0]\n",
        "yes = df.loc[df['success'] == 1.0]\n",
        "x = no['age']\n",
        "y = no['interest']\n",
        "plt.plot(x, y, 'x', color='red')\n",
        "x = yes['age']\n",
        "y = yes['interest']\n",
        "plt.plot(x, y, 'o', color='blue')"
      ]
    },
    {
      "cell_type": "markdown",
      "metadata": {
        "id": "WIeB4u162_jd"
      },
      "source": [
        "Training the perceptron model with a training size of 30% of the data for a total of 5 itterations."
      ]
    },
    {
      "cell_type": "code",
      "execution_count": 8,
      "metadata": {
        "colab": {
          "base_uri": "https://localhost:8080/"
        },
        "id": "ZJ0DfVWkKe1g",
        "outputId": "57f6eacd-e845-44d4-8e7b-c712f593c568"
      },
      "outputs": [
        {
          "name": "stdout",
          "output_type": "stream",
          "text": [
            "Weigths:\t [-182.66510763  155.92939922]\n",
            "Success rate:\t73.077%\n"
          ]
        }
      ],
      "source": [
        "percentage = 0.3\n",
        "itteration = 5\n",
        "training_size = int(percentage * len(input))\n",
        "training_data, training_label = input[:training_size], classes[:training_size]\n",
        "\n",
        "# Training data and getting weights\n",
        "weight = train_model(training_data,training_label,itteration)\n",
        "\n",
        "score = 0\n",
        "for xi,label in zip(input[training_size:],classes[training_size:]):\n",
        "  if predict(xi,weight) == label:\n",
        "    score +=1\n",
        "print(\"Weigths:\\t\",weight)\n",
        "print(\"Success rate:\\t%.3f%%\" %(score/len(input[training_size:])*100))"
      ]
    },
    {
      "cell_type": "markdown",
      "metadata": {
        "id": "OgCPZQofU_a7"
      },
      "source": [
        "**Since the data is not linearly separable the perceptron is not finding good weights thus why the success rates is affected.**"
      ]
    }
  ],
  "metadata": {
    "colab": {
      "collapsed_sections": [],
      "name": "Assignment_1_Almukhtar_Sandoval.ipynb",
      "provenance": []
    },
    "kernelspec": {
      "display_name": "Python 3",
      "name": "python3"
    },
    "language_info": {
      "codemirror_mode": {
        "name": "ipython",
        "version": 3
      },
      "file_extension": ".py",
      "mimetype": "text/x-python",
      "name": "python",
      "nbconvert_exporter": "python",
      "pygments_lexer": "ipython3",
      "version": "3.7.5"
    }
  },
  "nbformat": 4,
  "nbformat_minor": 0
}
